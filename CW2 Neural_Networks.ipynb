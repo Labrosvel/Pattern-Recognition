{
 "cells": [
  {
   "cell_type": "code",
   "execution_count": 1,
   "metadata": {},
   "outputs": [],
   "source": [
    "from sklearn import datasets\n",
    "iris = datasets.load_iris()"
   ]
  },
  {
   "cell_type": "code",
   "execution_count": 2,
   "metadata": {},
   "outputs": [],
   "source": [
    "#iris.data # 150 samples from 4 attributes \n",
    "#iris.target # 3 classes overall "
   ]
  },
  {
   "cell_type": "markdown",
   "metadata": {},
   "source": [
    "# Calculations"
   ]
  },
  {
   "cell_type": "markdown",
   "metadata": {},
   "source": [
    "### Check-calculations for exercise 6"
   ]
  },
  {
   "cell_type": "code",
   "execution_count": 39,
   "metadata": {},
   "outputs": [],
   "source": [
    "import numpy as np\n",
    "theta, w1, w2, lr = -1, 0, 0, 1\n",
    "wt = np.array([-theta,w1,w2]) # initial weights\n",
    "xt = np.array([[1,0,2], [1,1,2], [1,2,1], [1,-3,1], [1,-2,-1], [1,-3,-2]]) #features\n",
    "t = np.array([1,1,1,0,0,0])\n",
    "H = lambda n: 1 if n>0 else 0  # Heavyside function"
   ]
  },
  {
   "cell_type": "code",
   "execution_count": 40,
   "metadata": {},
   "outputs": [
    {
     "name": "stdout",
     "output_type": "stream",
     "text": [
      "1\n",
      "[1 0 0]\n",
      "1\n",
      "[1 0 0]\n",
      "1\n",
      "[1 0 0]\n",
      "1\n",
      "[ 0  3 -1]\n",
      "0\n",
      "[ 0  3 -1]\n",
      "0\n",
      "[ 0  3 -1]\n",
      "0\n",
      "[1 3 1]\n",
      "1\n",
      "[1 3 1]\n",
      "1\n",
      "[1 3 1]\n",
      "0\n",
      "[1 3 1]\n",
      "0\n",
      "[1 3 1]\n",
      "0\n",
      "[1 3 1]\n"
     ]
    }
   ],
   "source": [
    "epochs = 2\n",
    "iterations = xt.shape[0]\n",
    "for j in range(epochs):    \n",
    "    for i in range(iterations):\n",
    "        y=H(np.inner(wt,xt[i,:]))\n",
    "        print(y)\n",
    "        wt = wt + lr*(t[i]-y)*xt[i,:]\n",
    "        print(wt)"
   ]
  },
  {
   "cell_type": "markdown",
   "metadata": {},
   "source": [
    "## Exercise for coursework"
   ]
  },
  {
   "cell_type": "code",
   "execution_count": 41,
   "metadata": {},
   "outputs": [],
   "source": [
    "import numpy as np\n",
    "theta, w1, w2, lr = -0.5, -7.5, 1.5, 1\n",
    "wt = np.array([-theta,w1,w2]) # initial weights\n",
    "xt = np.array([[1,0,2], [1,1,2], [1,2,1], [1,-3,1], [1,-2,-1], [1,-3,-2]]) #features\n",
    "t = np.array([1,1,1,0,0,0])\n",
    "H = lambda n: 1 if n>0 else 0.5 if n==0 else 0  # Heavyside function"
   ]
  },
  {
   "cell_type": "code",
   "execution_count": 44,
   "metadata": {},
   "outputs": [
    {
     "name": "stdout",
     "output_type": "stream",
     "text": [
      "1\n",
      "[ 0.5 -7.5  1.5]\n",
      "0\n",
      "[ 1.5 -6.5  3.5]\n",
      "0\n",
      "[ 2.5 -4.5  4.5]\n",
      "1\n",
      "[ 1.5 -1.5  3.5]\n",
      "1\n",
      "[0.5 0.5 4.5]\n",
      "0\n",
      "[0.5 0.5 4.5]\n",
      "1\n",
      "[0.5 0.5 4.5]\n",
      "1\n",
      "[0.5 0.5 4.5]\n",
      "1\n",
      "[0.5 0.5 4.5]\n",
      "1\n",
      "[-0.5  3.5  3.5]\n",
      "0\n",
      "[-0.5  3.5  3.5]\n",
      "0\n",
      "[-0.5  3.5  3.5]\n"
     ]
    }
   ],
   "source": [
    "epochs = 2\n",
    "iterations = xt.shape[0]\n",
    "for j in range(epochs):    \n",
    "    for i in range(iterations):\n",
    "        y=H(np.inner(wt,xt[i,:]))\n",
    "        print(y)\n",
    "        wt = wt + lr*(t[i]-y)*xt[i,:]\n",
    "        print(wt)"
   ]
  }
 ],
 "metadata": {
  "kernelspec": {
   "display_name": "Python 3",
   "language": "python",
   "name": "python3"
  },
  "language_info": {
   "codemirror_mode": {
    "name": "ipython",
    "version": 3
   },
   "file_extension": ".py",
   "mimetype": "text/x-python",
   "name": "python",
   "nbconvert_exporter": "python",
   "pygments_lexer": "ipython3",
   "version": "3.7.6"
  }
 },
 "nbformat": 4,
 "nbformat_minor": 4
}
